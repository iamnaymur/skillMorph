{
  "nbformat": 4,
  "nbformat_minor": 0,
  "metadata": {
    "colab": {
      "provenance": [],
      "toc_visible": true,
      "authorship_tag": "ABX9TyPXp1PT9FcYubc5Nae9x205"
    },
    "kernelspec": {
      "name": "python3",
      "display_name": "Python 3"
    },
    "language_info": {
      "name": "python"
    }
  },
  "cells": [
    {
      "cell_type": "markdown",
      "source": [
        "# **2.1 Create variables for your name, age, and favorite color, then print them with descriptive labels.**"
      ],
      "metadata": {
        "id": "RqOt91HB5s8Y"
      }
    },
    {
      "cell_type": "code",
      "execution_count": null,
      "metadata": {
        "colab": {
          "base_uri": "https://localhost:8080/"
        },
        "id": "Km1fzZD442Kz",
        "outputId": "6e3b70ce-7076-4c47-8af9-653d348745a9"
      },
      "outputs": [
        {
          "output_type": "stream",
          "name": "stdout",
          "text": [
            "Name:  Naymur Rahman\n",
            "Age:  23\n",
            "Favourite Color:  black\n"
          ]
        }
      ],
      "source": [
        "name = \"Naymur Rahman\"\n",
        "age = 23\n",
        "favColor = \"black\"\n",
        "\n",
        "print(\"Name: \",name)\n",
        "print(\"Age: \", age)\n",
        "print(\"Favourite Color: \",favColor)"
      ]
    },
    {
      "cell_type": "markdown",
      "source": [
        "# **2.2.Create one variable of each type and use the type() function to verify its type.**"
      ],
      "metadata": {
        "id": "AqzOpoG17LRy"
      }
    },
    {
      "cell_type": "code",
      "source": [
        "intData = 13\n",
        "floatData = 13.7\n",
        "stringData = \"Naymur\"\n",
        "booleanData= False;\n",
        "nullValue = None\n",
        "\n",
        "print(type(intData))\n",
        "print(type(floatData))\n",
        "print(type(stringData))\n",
        "print(type(booleanData))\n",
        "print(type(nullValue))"
      ],
      "metadata": {
        "colab": {
          "base_uri": "https://localhost:8080/"
        },
        "id": "swCVr75M7PZD",
        "outputId": "9fa2bc77-a2fb-4f8f-edf7-edadcd0c785c"
      },
      "execution_count": null,
      "outputs": [
        {
          "output_type": "stream",
          "name": "stdout",
          "text": [
            "<class 'int'>\n",
            "<class 'float'>\n",
            "<class 'str'>\n",
            "<class 'bool'>\n",
            "<class 'NoneType'>\n"
          ]
        }
      ]
    },
    {
      "cell_type": "markdown",
      "source": [
        "# **2.3.Calculate the area and perimeter of a rectangle with length 7 and width 5.**"
      ],
      "metadata": {
        "id": "KbetE9am8CNd"
      }
    },
    {
      "cell_type": "code",
      "source": [
        "length ,width = 7,5\n",
        "perimeter = 2*(length + width)\n",
        "area = length*width\n",
        "\n",
        "print(\"The perimeter is :\", perimeter)\n",
        "print(\"The area is :\", area)"
      ],
      "metadata": {
        "colab": {
          "base_uri": "https://localhost:8080/"
        },
        "id": "JocTJ3Q-8HfV",
        "outputId": "c5103639-5d45-4959-f876-5fb33a4b9095"
      },
      "execution_count": null,
      "outputs": [
        {
          "output_type": "stream",
          "name": "stdout",
          "text": [
            "The perimeter is : 24\n",
            "The area is : 35\n"
          ]
        }
      ]
    },
    {
      "cell_type": "markdown",
      "source": [
        "# **2.4.Create a list of 5 Bangladeshi foods, then access the first and last elements.**"
      ],
      "metadata": {
        "id": "sCqQObo79JU4"
      }
    },
    {
      "cell_type": "code",
      "source": [
        "foods = [\"kacchi\", \"tehari\", \"chui jhal\", \"kala vuna\", \"khichuri\"]\n",
        "\n",
        "print(foods[0])\n",
        "print(foods[-1])\n"
      ],
      "metadata": {
        "colab": {
          "base_uri": "https://localhost:8080/"
        },
        "id": "jTXUX3yg9ORJ",
        "outputId": "0d770afd-25c4-495d-94fe-fb5f3f9f1040"
      },
      "execution_count": null,
      "outputs": [
        {
          "output_type": "stream",
          "name": "stdout",
          "text": [
            "kacchi\n",
            "khichuri\n"
          ]
        }
      ]
    },
    {
      "cell_type": "markdown",
      "source": [
        "# **2.5 Create a list of 5 numbers, add a new number, remove one, and then sort the list.**"
      ],
      "metadata": {
        "id": "mvSrcIA89o7P"
      }
    },
    {
      "cell_type": "code",
      "source": [
        "nums = [12,43,4,7,2]\n",
        "nums.append(120)\n",
        "\n",
        "nums.pop(1)\n",
        "nums.sort()\n",
        "\n",
        "print(nums)"
      ],
      "metadata": {
        "colab": {
          "base_uri": "https://localhost:8080/"
        },
        "id": "PZev0bv_9w0Y",
        "outputId": "4402c643-c62b-49fe-dd63-88e1a79f7c84"
      },
      "execution_count": null,
      "outputs": [
        {
          "output_type": "stream",
          "name": "stdout",
          "text": [
            "[2, 4, 7, 12, 120]\n"
          ]
        }
      ]
    },
    {
      "cell_type": "markdown",
      "source": [
        "# **2.6 Create a dictionary about yourself with at least 4 key-value pairs**"
      ],
      "metadata": {
        "id": "jZ-uUkSb-adw"
      }
    },
    {
      "cell_type": "code",
      "source": [
        "aboutMe ={\"name\" : \"Naymur Rahman\",\n",
        "          \"age\" : 23,\n",
        "          \"placeOfBirth\": \"Narayanganj\",\n",
        "          \"cell\" : \"01704895487\"\n",
        "          }\n",
        "\n",
        "print(aboutMe[\"name\"], \"and \", aboutMe[\"cell\"])"
      ],
      "metadata": {
        "colab": {
          "base_uri": "https://localhost:8080/"
        },
        "id": "GfcnA_dC-erQ",
        "outputId": "79ee1df8-f94d-464a-a84d-f3e48845bc8f"
      },
      "execution_count": null,
      "outputs": [
        {
          "output_type": "stream",
          "name": "stdout",
          "text": [
            "Naymur Rahman and  01704895487\n"
          ]
        }
      ]
    },
    {
      "cell_type": "markdown",
      "source": [
        "# **2.7 Create a tuple with the latitude and longitude of a famous place in Bangladesh.**"
      ],
      "metadata": {
        "id": "c4TdWkJo_b6E"
      }
    },
    {
      "cell_type": "code",
      "source": [
        "location = (23.8759, 90.2667)\n",
        "\n",
        "print(type(location))"
      ],
      "metadata": {
        "colab": {
          "base_uri": "https://localhost:8080/"
        },
        "id": "Uz0VzJIN_h7N",
        "outputId": "4e953b8b-b63e-484b-84e4-e368de2a48a3"
      },
      "execution_count": null,
      "outputs": [
        {
          "output_type": "stream",
          "name": "stdout",
          "text": [
            "<class 'tuple'>\n"
          ]
        }
      ]
    },
    {
      "cell_type": "markdown",
      "source": [
        "# **2.8 Create two sets of colors and find their union and intersection**"
      ],
      "metadata": {
        "id": "54dkSnhqAG5U"
      }
    },
    {
      "cell_type": "code",
      "source": [
        "colors1 = {\"red\", \"black\", \"blue\",\"green\" }\n",
        "colors2 = {\"red\", \"magenta\", \"orange\",\"green\" }\n",
        "\n",
        "unionOfColors = colors1 | colors2\n",
        "print(unionOfColors)\n",
        "\n",
        "intersectionOfColors = colors1 & colors2\n",
        "print(intersectionOfColors)"
      ],
      "metadata": {
        "colab": {
          "base_uri": "https://localhost:8080/"
        },
        "id": "4waPsGtvAKFj",
        "outputId": "bf263702-5173-4e18-8454-4407aa8408f6"
      },
      "execution_count": null,
      "outputs": [
        {
          "output_type": "stream",
          "name": "stdout",
          "text": [
            "{'red', 'blue', 'green', 'magenta', 'black', 'orange'}\n",
            "{'red', 'green'}\n"
          ]
        }
      ]
    },
    {
      "cell_type": "markdown",
      "source": [
        "# **2.9 Write a program that checks if a number is positive, negative, or zero.**"
      ],
      "metadata": {
        "id": "vgTBZzH7A-0m"
      }
    },
    {
      "cell_type": "code",
      "source": [
        "num = int(input())\n",
        "\n",
        "if num > 0:\n",
        "  print(\"Positive\")\n",
        "elif num< 0:\n",
        "  print(\"Negative\")\n",
        "else:\n",
        "  print(\"Zero\")"
      ],
      "metadata": {
        "colab": {
          "base_uri": "https://localhost:8080/"
        },
        "id": "-qRK8kALBByO",
        "outputId": "5e2ffd47-267c-4aa7-83c9-8a48b19e64a0"
      },
      "execution_count": null,
      "outputs": [
        {
          "output_type": "stream",
          "name": "stdout",
          "text": [
            "0\n",
            "Zero\n"
          ]
        }
      ]
    },
    {
      "cell_type": "markdown",
      "source": [
        "# **2.10 Write a program that checks eligibility for a discount (student AND under 25, OR senior over 60).**"
      ],
      "metadata": {
        "id": "mYvOSe-4Bz0H"
      }
    },
    {
      "cell_type": "code",
      "source": [
        "is_student =  input(\"Are you a student? (yes/no): \")\n",
        "if is_student ==\"yes\":\n",
        "  age = int(input(\"Your age :\"))\n",
        "  if age < 25 or age >60:\n",
        "    print(\"your age eligible\")\n",
        "  else:\n",
        "    print(\"not eligible\")\n",
        "\n",
        "else:\n",
        "  print(\"Sorry, you are not a student already..\")"
      ],
      "metadata": {
        "colab": {
          "base_uri": "https://localhost:8080/"
        },
        "id": "xvqaj9BiB17v",
        "outputId": "d0723db8-5362-41c2-c610-b462724e99b3"
      },
      "execution_count": null,
      "outputs": [
        {
          "output_type": "stream",
          "name": "stdout",
          "text": [
            "Are you a student? (yes/no): yes\n",
            "Your age :61\n",
            "your age eligible\n"
          ]
        }
      ]
    },
    {
      "cell_type": "markdown",
      "source": [
        "# **2.11 Write a program that prints the first 10 even numbers using a for or while loop**"
      ],
      "metadata": {
        "id": "rU-WiDfmDNNo"
      }
    },
    {
      "cell_type": "code",
      "source": [
        "even = 2\n",
        "count = 0\n",
        "while count < 10:\n",
        "  count+=1;\n",
        "  print(even)\n",
        "  even += 2;"
      ],
      "metadata": {
        "colab": {
          "base_uri": "https://localhost:8080/"
        },
        "id": "JuHI8MxSDRem",
        "outputId": "2708e985-b0d5-4d6f-907d-74ab182b721e"
      },
      "execution_count": null,
      "outputs": [
        {
          "output_type": "stream",
          "name": "stdout",
          "text": [
            "2\n",
            "4\n",
            "6\n",
            "8\n",
            "10\n",
            "12\n",
            "14\n",
            "16\n",
            "18\n",
            "20\n"
          ]
        }
      ]
    },
    {
      "cell_type": "markdown",
      "source": [
        "# **2.12 Write a program that prints a simple pyramid pattern using nested loops.**"
      ],
      "metadata": {
        "id": "zuvoeWpMEIRK"
      }
    },
    {
      "cell_type": "code",
      "source": [
        "\n",
        "for i in range(1, 5+1):\n",
        "  for space in range(5-i):\n",
        "    print(\" \", end=\"\")\n",
        "  for num in range(1, i+1):\n",
        "    print(\"*\", end =\" \")\n",
        "\n",
        "  print()"
      ],
      "metadata": {
        "colab": {
          "base_uri": "https://localhost:8080/"
        },
        "id": "p8MLCFRNEKNf",
        "outputId": "f069985d-6d40-486e-82d5-36b37e16e556"
      },
      "execution_count": 2,
      "outputs": [
        {
          "output_type": "stream",
          "name": "stdout",
          "text": [
            "    * \n",
            "   * * \n",
            "  * * * \n",
            " * * * * \n",
            "* * * * * \n"
          ]
        }
      ]
    },
    {
      "cell_type": "markdown",
      "source": [
        "# **Create a function that converts temperature from Celsius to Fahrenheit using the formula: F = (C × 9/5) + 32**"
      ],
      "metadata": {
        "id": "XGWCjL1zFkbb"
      }
    },
    {
      "cell_type": "code",
      "source": [
        "c =  float(input(\"Celcius input :\"))\n",
        "f = (c*(9/5)+32)\n",
        "\n",
        "print(\"result for Fahrenheit : \", f)"
      ],
      "metadata": {
        "colab": {
          "base_uri": "https://localhost:8080/"
        },
        "id": "zy6K5B3nFm8J",
        "outputId": "98ba2644-b3d5-41cc-cce5-b1b5e9bc7f05"
      },
      "execution_count": null,
      "outputs": [
        {
          "output_type": "stream",
          "name": "stdout",
          "text": [
            "Celcius input :23\n",
            "result for Fahrenheit :  73.4\n"
          ]
        }
      ]
    },
    {
      "cell_type": "markdown",
      "source": [
        "# **2.14 Create a function with default parameters that calculates the area of a rectangle.**"
      ],
      "metadata": {
        "id": "s8abe9J6F37m"
      }
    },
    {
      "cell_type": "code",
      "source": [
        "def area(length = 1, width =1):\n",
        "  area = length * width\n",
        "  return area\n",
        "\n",
        "print(\"Without passing anything\")\n",
        "print(area())\n",
        "print(\"\\n\")\n",
        "print(\"With int passing\")\n",
        "print(area(5,2))"
      ],
      "metadata": {
        "colab": {
          "base_uri": "https://localhost:8080/"
        },
        "id": "iBzvWMDzF6lb",
        "outputId": "56f5b137-c365-4154-917b-94bfff68eaf3"
      },
      "execution_count": null,
      "outputs": [
        {
          "output_type": "stream",
          "name": "stdout",
          "text": [
            "Without passing anything\n",
            "1\n",
            "\n",
            "\n",
            "With int passing\n",
            "10\n"
          ]
        }
      ]
    }
  ]
}